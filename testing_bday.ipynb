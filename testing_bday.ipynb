{
 "cells": [
  {
   "cell_type": "code",
   "execution_count": 4,
   "id": "e90980ee-9de5-40ff-a677-ac1fb65fdce2",
   "metadata": {},
   "outputs": [],
   "source": [
    "import xarray as xr\n",
    "import numpy as np\n",
    "import pandas as pd\n",
    "import matplotlib as mpl \n",
    "import time\n",
    "import random\n",
    "import datetime\n"
   ]
  },
  {
   "cell_type": "code",
   "execution_count": 5,
   "id": "c4502d69-17c2-45cd-bb58-e8e817c3f5ab",
   "metadata": {},
   "outputs": [
    {
     "name": "stdout",
     "output_type": "stream",
     "text": [
      "09/18/2014\n"
     ]
    }
   ],
   "source": [
    "def gen_rand_bday():\n",
    "    #Create date range\n",
    "    start_date = datetime.date(2013, 1, 1)\n",
    "    end_date = datetime.date(2014, 12, 31)\n",
    "#How many days in dataset?: 729 \n",
    "    delta = end_date - start_date\n",
    "    total_days = delta.days \n",
    "    random_days = random.randint(0, total_days)\n",
    "\n",
    "#Add random number of days to start_date\n",
    "    random_date = start_date +datetime.timedelta(days = random_days)\n",
    "#Format to mm/dd/yyyy \n",
    "    formatted_date = random_date.strftime(\"%m/%d/%Y\")\n",
    "    return formatted_date\n",
    "print(gen_rand_bday())\n",
    "\n"
   ]
  },
  {
   "cell_type": "code",
   "execution_count": 6,
   "id": "16b1fa0c-b360-4699-acd3-f9003df23dd8",
   "metadata": {},
   "outputs": [],
   "source": [
    "def rand_lat_values():\n",
    "    test_lat = random.uniform(-90, 90)\n",
    "    return test_lat\n",
    "\n"
   ]
  },
  {
   "cell_type": "code",
   "execution_count": 7,
   "id": "4da5ebf3-fd6b-4b86-b5d0-14765b29b175",
   "metadata": {},
   "outputs": [],
   "source": [
    "def rand_lon_values():\n",
    "    test_lon = random.uniform(-180, 180)\n",
    "    return test_lon"
   ]
  },
  {
   "cell_type": "code",
   "execution_count": 10,
   "id": "7513bb99-bb5e-4486-ab72-049ba3810b5d",
   "metadata": {},
   "outputs": [
    {
     "data": {
      "text/plain": [
       "{'name': 'Testing',\n",
       " 'birthday': '12/29/2013',\n",
       " 'lat': -14.296823343143089,\n",
       " 'lon': -128.56695507175107}"
      ]
     },
     "execution_count": 10,
     "metadata": {},
     "output_type": "execute_result"
    }
   ],
   "source": [
    "def gen_test_case(test_lat, test_lon, test_bday):\n",
    "    test_case = {\n",
    "            \"name\": \"Testing\",\n",
    "            \"birthday\": test_bday,\n",
    "            \"lat\": test_lat,\n",
    "            \"lon\": test_lon\n",
    "        }\n",
    "    return test_case \n",
    "gen_test_case(rand_lat_values(), rand_lon_values(), gen_rand_bday())"
   ]
  },
  {
   "cell_type": "code",
   "execution_count": 11,
   "id": "d2af0506-4903-48e3-8af3-91c4e3797a3f",
   "metadata": {},
   "outputs": [],
   "source": [
    "test_lat = rand_lat_values()\n",
    "test_lon = rand_lon_values()\n",
    "test_bday = gen_rand_bday()\n",
    "test_case = gen_test_case(test_lat, test_lon, test_bday)\n"
   ]
  },
  {
   "cell_type": "code",
   "execution_count": 12,
   "id": "15f4a3b5-139f-4ae7-96f7-9e7c8e83108f",
   "metadata": {},
   "outputs": [],
   "source": [
    "def load_dataset():\n",
    "    ds = xr.tutorial.load_dataset(\"air_temperature\")\n",
    "    return ds\n",
    "    "
   ]
  },
  {
   "cell_type": "code",
   "execution_count": 13,
   "id": "62ba304a-5de0-49b0-9319-6834be32eb47",
   "metadata": {},
   "outputs": [],
   "source": [
    "def get_birthday_temp(ds, test_case):\n",
    "    # Convert ['birthday'] into a Datetime object\n",
    "    date = pd.to_datetime(test_case['birthday'])\n",
    "    \n",
    "    # Select the data for user_lat and user_lon first\n",
    "    temp_at_location = ds.sel(lat=float(test_case['lat']), lon=float(test_case['lon']), method='nearest')\n",
    "    \n",
    "    # Now subset the data by the Datetime object\n",
    "    temp_on_date = temp_at_location.sel(time=date, method='nearest')\n",
    "    \n",
    "    # Now we extract the air temp values\n",
    "    air_temp = temp_on_date['air'].item() \n",
    "    air_temp = (air_temp - 273.15)  * 1.8 +32\n",
    "    \n",
    "    \n",
    "    return air_temp"
   ]
  },
  {
   "cell_type": "code",
   "execution_count": null,
   "id": "eb010326-b5d2-44ac-9cd0-7660a5c98f46",
   "metadata": {},
   "outputs": [],
   "source": []
  },
  {
   "cell_type": "code",
   "execution_count": 18,
   "id": "a0e9e203-ef8d-49ac-81a5-874bc38177ed",
   "metadata": {},
   "outputs": [
    {
     "name": "stdout",
     "output_type": "stream",
     "text": [
      "The average time to execute over 1000 iterations is 0.0017146478 seconds\n"
     ]
    }
   ],
   "source": [
    "\n",
    "import xarray as xr\n",
    "import numpy as np\n",
    "import pandas as pd\n",
    "import time\n",
    "import random\n",
    "\n",
    "def run_benchmark():\n",
    "    def rand_lat_values():\n",
    "        return random.uniform(-90, 90)\n",
    "\n",
    "    def rand_lon_values():\n",
    "        return random.uniform(-180, 180)\n",
    "\n",
    "    def load_dataset():\n",
    "        ds = xr.tutorial.load_dataset(\"air_temperature\")\n",
    "        return ds\n",
    "\n",
    "    def get_birthday_temp(ds, test_case):\n",
    "        # Convert ['birthday'] into a Datetime object\n",
    "        date = pd.to_datetime(test_case['birthday'])\n",
    "        \n",
    "        # Select the data for user_lat and user_lon first\n",
    "        temp_at_location = ds.sel(lat=float(test_case['lat']), lon=float(test_case['lon']), method='nearest')\n",
    "        \n",
    "        # Now subset the data by the Datetime object\n",
    "        temp_on_date = temp_at_location.sel(time=date, method='nearest')\n",
    "        \n",
    "        # Now we extract the air temp values\n",
    "        air_temp = temp_on_date['air'].item() \n",
    "        # Convert from Kelvin to Fahrenheit\n",
    "        air_temp = (air_temp - 273.15)  * 1.8 + 32\n",
    "        \n",
    "        return air_temp\n",
    "    \n",
    "    # Load dataset once\n",
    "    ds = load_dataset()\n",
    "    \n",
    "    total_time = 0\n",
    "    iterations = 1000\n",
    "\n",
    "    for i in range(iterations):\n",
    "        # Generate random test case\n",
    "        test_lat = rand_lat_values()\n",
    "        test_lon = rand_lon_values()\n",
    "        test_bday= gen_rand_bday()\n",
    "        test_case = {\n",
    "            \"name\": \"Testing\",\n",
    "            \"birthday\": test_bday,\n",
    "            \"lat\": test_lat,\n",
    "            \"lon\": test_lon\n",
    "        }\n",
    "        \n",
    "        start_time = time.time()\n",
    "        air_temp = get_birthday_temp(ds, test_case)\n",
    "        end_time = time.time()\n",
    "        total_time += end_time - start_time\n",
    "\n",
    "    average_time = total_time / iterations\n",
    "    print(f\"The average time to execute over {iterations} iterations is {average_time:.10f} seconds\")\n",
    "\n",
    "# Run the benchmark\n",
    "run_benchmark()\n"
   ]
  },
  {
   "cell_type": "code",
   "execution_count": 17,
   "id": "8a323252-ef92-43e0-9ec8-402c21fbf478",
   "metadata": {},
   "outputs": [
    {
     "name": "stdout",
     "output_type": "stream",
     "text": [
      "The average air temperature on Testing's birthday (02/08/2013) at the location of (51.39276365088159, 44.96500311937265) was 40.55 degrees Fahrenheit.\n",
      " The total execution time is 0.0025939941 seconds\n"
     ]
    }
   ],
   "source": [
    "def main():\n",
    "    \n",
    "\n",
    "    user_info = gen_test_case(test_lat, test_lon, test_bday)\n",
    "\n",
    "\n",
    "    ds = load_dataset()\n",
    "    \n",
    "\n",
    "    start_time = time.time()\n",
    "    \n",
    "    #air_temp = get_birthday_temp(ds, user_info)\n",
    "    air_temp = get_birthday_temp(ds, test_case)\n",
    "    print(f\"The average air temperature on {user_info['name']}'s birthday ({user_info['birthday']}) at the location of ({user_info['lat']}, {user_info['lon']}) was {air_temp:.2f} degrees Fahrenheit.\")\n",
    "\n",
    "    end_time=time.time()\n",
    "\n",
    "    total_time = end_time - start_time\n",
    "    print(f\" The total execution time is {total_time:.10f} seconds\")\n",
    "\n",
    "if __name__ == \"__main__\":\n",
    "    main()\n",
    "    "
   ]
  },
  {
   "cell_type": "code",
   "execution_count": null,
   "id": "a08f12cc-b73c-45b2-bc87-85e898733ee8",
   "metadata": {},
   "outputs": [],
   "source": []
  },
  {
   "cell_type": "code",
   "execution_count": null,
   "id": "25af0007-f11c-4a5e-9598-63086d39bb42",
   "metadata": {},
   "outputs": [],
   "source": []
  }
 ],
 "metadata": {
  "kernelspec": {
   "display_name": "NPL 2023a",
   "language": "python",
   "name": "npl-2023a"
  },
  "language_info": {
   "codemirror_mode": {
    "name": "ipython",
    "version": 3
   },
   "file_extension": ".py",
   "mimetype": "text/x-python",
   "name": "python",
   "nbconvert_exporter": "python",
   "pygments_lexer": "ipython3",
   "version": "3.9.16"
  }
 },
 "nbformat": 4,
 "nbformat_minor": 5
}
