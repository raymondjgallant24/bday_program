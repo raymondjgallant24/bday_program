{
 "cells": [
  {
   "cell_type": "code",
   "execution_count": 21,
   "id": "4e64b042-a72d-486d-b7a0-7b178d2bf1ed",
   "metadata": {},
   "outputs": [],
   "source": [
    "import xarray as xr\n",
    "import numpy as np\n",
    "import pandas as pd\n",
    "import matplotlib as mpl \n",
    "import time\n",
    "import random\n",
    "import datetime"
   ]
  },
  {
   "cell_type": "code",
   "execution_count": 22,
   "id": "f36af86f-7c5d-4f91-96a9-f4dca1ae177e",
   "metadata": {},
   "outputs": [],
   "source": [
    "def gen_rand_bday():\n",
    "    #Create date range\n",
    "    start_date = datetime.date(2013, 1, 1)\n",
    "    end_date = datetime.date(2014, 12, 31)\n",
    "#How many days in dataset?: 729 \n",
    "    delta = end_date - start_date\n",
    "    total_days = delta.days \n",
    "    random_days = random.randint(0, total_days)\n",
    "\n",
    "#Add random number of days to start_date\n",
    "    random_date = start_date +datetime.timedelta(days = random_days)\n",
    "#Format to mm/dd/yyyy \n",
    "    formatted_date = random_date.strftime(\"%m/%d/%Y\")\n",
    "    return formatted_date\n",
    "\n"
   ]
  },
  {
   "cell_type": "code",
   "execution_count": 23,
   "id": "a9f4c7f3-79a9-4fec-9062-fb5a405e3cf0",
   "metadata": {},
   "outputs": [],
   "source": [
    "def gen_lat_values():\n",
    "    test_lat = random.uniform(-90, 90)\n",
    "    return test_lat"
   ]
  },
  {
   "cell_type": "code",
   "execution_count": 24,
   "id": "42f4e71a-0e3b-4364-a190-a308ed82bd9b",
   "metadata": {},
   "outputs": [],
   "source": [
    "def gen_lon_values():\n",
    "    test_lon = random.uniform(-180, 180)\n",
    "    return test_lon\n",
    "\n"
   ]
  },
  {
   "cell_type": "code",
   "execution_count": 28,
   "id": "3ca45a52-d233-4ce8-b68d-14a278587a83",
   "metadata": {},
   "outputs": [],
   "source": [
    "def gen_test_case():\n",
    "    test_case = {\n",
    "            \"name\": \"Testing\",\n",
    "            \"birthday\": gen_rand_bday(),\n",
    "            \"lat\": gen_lat_values(),\n",
    "            \"lon\": gen_lon_values()\n",
    "        }\n",
    "    return test_case \n",
    "\n"
   ]
  },
  {
   "cell_type": "code",
   "execution_count": 33,
   "id": "1afaf676-dc39-4f4e-8124-94fca517ce1c",
   "metadata": {},
   "outputs": [],
   "source": [
    "\n",
    "def create_mass_cases(cases):\n",
    "    mass_cases = []\n",
    "    for c in range(cases):\n",
    "        n = gen_test_case()\n",
    "        mass_cases.append(n)\n",
    "    print(mass_cases)\n",
    "    return mass_cases\n",
    "    "
   ]
  },
  {
   "cell_type": "code",
   "execution_count": 35,
   "id": "c682a10e-376c-4ef6-bab7-e02243d451ba",
   "metadata": {},
   "outputs": [
    {
     "name": "stdout",
     "output_type": "stream",
     "text": [
      "[{'name': 'Testing', 'birthday': '02/25/2013', 'lat': 50.52132711518851, 'lon': -97.286714740854}, {'name': 'Testing', 'birthday': '08/26/2014', 'lat': -28.534897742913813, 'lon': -20.858118475658387}, {'name': 'Testing', 'birthday': '08/08/2014', 'lat': 32.80811672569462, 'lon': 152.40739589123825}, {'name': 'Testing', 'birthday': '01/03/2013', 'lat': 54.522092267919646, 'lon': -174.8896857467392}, {'name': 'Testing', 'birthday': '08/07/2013', 'lat': 80.44352998431512, 'lon': 16.549391452569665}, {'name': 'Testing', 'birthday': '05/27/2013', 'lat': -59.45696348489656, 'lon': -50.19904129005826}, {'name': 'Testing', 'birthday': '11/10/2013', 'lat': 38.51153854919889, 'lon': 123.56078818185256}, {'name': 'Testing', 'birthday': '08/09/2013', 'lat': -77.0220578630999, 'lon': 153.02144293567017}, {'name': 'Testing', 'birthday': '06/23/2014', 'lat': 69.80211862301829, 'lon': -2.7669999550124373}, {'name': 'Testing', 'birthday': '02/05/2014', 'lat': -25.109892251759078, 'lon': 6.78258168358073}]\n"
     ]
    },
    {
     "data": {
      "text/plain": [
       "[{'name': 'Testing',\n",
       "  'birthday': '02/25/2013',\n",
       "  'lat': 50.52132711518851,\n",
       "  'lon': -97.286714740854},\n",
       " {'name': 'Testing',\n",
       "  'birthday': '08/26/2014',\n",
       "  'lat': -28.534897742913813,\n",
       "  'lon': -20.858118475658387},\n",
       " {'name': 'Testing',\n",
       "  'birthday': '08/08/2014',\n",
       "  'lat': 32.80811672569462,\n",
       "  'lon': 152.40739589123825},\n",
       " {'name': 'Testing',\n",
       "  'birthday': '01/03/2013',\n",
       "  'lat': 54.522092267919646,\n",
       "  'lon': -174.8896857467392},\n",
       " {'name': 'Testing',\n",
       "  'birthday': '08/07/2013',\n",
       "  'lat': 80.44352998431512,\n",
       "  'lon': 16.549391452569665},\n",
       " {'name': 'Testing',\n",
       "  'birthday': '05/27/2013',\n",
       "  'lat': -59.45696348489656,\n",
       "  'lon': -50.19904129005826},\n",
       " {'name': 'Testing',\n",
       "  'birthday': '11/10/2013',\n",
       "  'lat': 38.51153854919889,\n",
       "  'lon': 123.56078818185256},\n",
       " {'name': 'Testing',\n",
       "  'birthday': '08/09/2013',\n",
       "  'lat': -77.0220578630999,\n",
       "  'lon': 153.02144293567017},\n",
       " {'name': 'Testing',\n",
       "  'birthday': '06/23/2014',\n",
       "  'lat': 69.80211862301829,\n",
       "  'lon': -2.7669999550124373},\n",
       " {'name': 'Testing',\n",
       "  'birthday': '02/05/2014',\n",
       "  'lat': -25.109892251759078,\n",
       "  'lon': 6.78258168358073}]"
      ]
     },
     "execution_count": 35,
     "metadata": {},
     "output_type": "execute_result"
    }
   ],
   "source": [
    "create_mass_cases(10)\n"
   ]
  },
  {
   "cell_type": "code",
   "execution_count": null,
   "id": "5bc06cd0-ad23-48c1-9ef8-a82b04d0f1cf",
   "metadata": {},
   "outputs": [],
   "source": []
  },
  {
   "cell_type": "code",
   "execution_count": null,
   "id": "7b9b7953-7cf8-47c9-93cf-d3ac46823d42",
   "metadata": {},
   "outputs": [],
   "source": []
  }
 ],
 "metadata": {
  "kernelspec": {
   "display_name": "NPL 2023a",
   "language": "python",
   "name": "npl-2023a"
  },
  "language_info": {
   "codemirror_mode": {
    "name": "ipython",
    "version": 3
   },
   "file_extension": ".py",
   "mimetype": "text/x-python",
   "name": "python",
   "nbconvert_exporter": "python",
   "pygments_lexer": "ipython3",
   "version": "3.9.16"
  }
 },
 "nbformat": 4,
 "nbformat_minor": 5
}
