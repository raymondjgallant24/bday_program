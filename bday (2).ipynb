{
 "cells": [
  {
   "cell_type": "code",
   "execution_count": 2,
   "id": "c7a226bf-a962-4c1d-8eb4-14e92b2fc420",
   "metadata": {},
   "outputs": [],
   "source": [
    "import xarray as xr\n",
    "import numpy as np\n",
    "import pandas as pd\n",
    "import matplotlib as mpl \n",
    "import time\n",
    "import random\n",
    "import datetime"
   ]
  },
  {
   "cell_type": "code",
   "execution_count": 3,
   "id": "2b58b63b-3fcd-4ba3-aa29-43f91c8238f9",
   "metadata": {},
   "outputs": [],
   "source": [
    "def obtain_user_input():\n",
    "    while True:\n",
    "        print(\"This program is designed to take your birthday and provide you with the temperature of your location\")\n",
    "#Obtain the users name\n",
    "        user_name = input(\"Hello, what is your name?: \")\n",
    "#Address the user by their name and obtain the users date of birth,lat and lon \n",
    "        user_bday = input(f\"Hello, {user_name}, Please provide me with your Birthday in a MM/DD/YYYY format: \" )\n",
    "        user_lat = input(f\"Thankyou, {user_name} ,Next I will need your latitude coordinate: \")\n",
    "        user_lon = input(f\"{user_name} Now all I need is your longitude coordinate and I can begin the process\")\n",
    "#Place the user info into a dictionary and print it back out for confirmation\n",
    "        user_info = {\n",
    "            \"name\": user_name,\n",
    "            \"birthday\": user_bday,\n",
    "            \"lat\": user_lat,\n",
    "            \"lon\": user_lon\n",
    "        }\n",
    "#Obtain confirmation from user or else restart the program until they get it right\n",
    "        print(f\"Does this look correct? {user_info}\")\n",
    "        confirmation = input(\"Type 'yes' or 'no' to start over: \") \n",
    "        if confirmation == 'yes':\n",
    "            break\n",
    "        else:\n",
    "            print(\"We will try again\")\n",
    "\n",
    "    return user_info"
   ]
  },
  {
   "cell_type": "code",
   "execution_count": 4,
   "id": "db19158f-fe49-4abf-8e90-a5153b92a83b",
   "metadata": {},
   "outputs": [],
   "source": [
    "def load_dataset():\n",
    "    ds = xr.tutorial.load_dataset(\"air_temperature\")\n",
    "    return ds\n",
    "    "
   ]
  },
  {
   "cell_type": "code",
   "execution_count": 5,
   "id": "337739ff-3989-4c17-a7c7-ef4db6bd438b",
   "metadata": {},
   "outputs": [],
   "source": [
    "def get_birthday_temp(ds, user_info):\n",
    "    # Convert ['birthday'] into a Datetime object\n",
    "    date = pd.to_datetime(user_info['birthday'])\n",
    "    \n",
    "    # Select the data for user_lat and user_lon first\n",
    "    temp_at_location = ds.sel(lat=float(user_info['lat']), lon=float(user_info['lon']), method='nearest')\n",
    "    \n",
    "    # Now subset the data by the Datetime object\n",
    "    temp_on_date = temp_at_location.sel(time=date, method='nearest')\n",
    "    \n",
    "    # Now we extract the air temp values\n",
    "    air_temp = temp_on_date['air'].item() \n",
    "    air_temp = float((air_temp - 273.15) * 1.8)\n",
    "    \n",
    "    return air_temp"
   ]
  },
  {
   "cell_type": "code",
   "execution_count": 8,
   "id": "3505bbfc-2238-4d1c-9056-f1b9963e093a",
   "metadata": {},
   "outputs": [
    {
     "name": "stdout",
     "output_type": "stream",
     "text": [
      "This program is designed to take your birthday and provide you with the temperature of your location\n"
     ]
    },
    {
     "name": "stdin",
     "output_type": "stream",
     "text": [
      "Hello, what is your name?:  Raymond\n",
      "Hello, Raymond, Please provide me with your Birthday in a MM/DD/YYYY format:  09/02/1997\n",
      "Thankyou, Raymond ,Next I will need your latitude coordinate:  -78.2994\n",
      "Raymond Now all I need is your longitude coordinate and I can begin the process 24.8391\n"
     ]
    },
    {
     "name": "stdout",
     "output_type": "stream",
     "text": [
      "Does this look correct? {'name': 'Raymond', 'birthday': '09/02/1997', 'lat': '-78.2994', 'lon': '24.8391'}\n"
     ]
    },
    {
     "name": "stdin",
     "output_type": "stream",
     "text": [
      "Type 'yes' or 'no' to start over:  yes\n"
     ]
    },
    {
     "name": "stdout",
     "output_type": "stream",
     "text": [
      "The average air temperature on Raymond's birthday (09/02/1997) at the location of (-78.2994, 24.8391) was 41.65 degrees Fahrenheit.\n",
      " The total execution time is 0.00 seconds\n"
     ]
    }
   ],
   "source": [
    "def main():\n",
    "\n",
    "    user_info = obtain_user_input()\n",
    "\n",
    "\n",
    "    ds = load_dataset()\n",
    "\n",
    "    start_time = time.time()\n",
    "    #air_temp = get_birthday_temp(ds, user_info)\n",
    "    air_temp = get_birthday_temp(ds, user_info)\n",
    "    end_time=time.time()\n",
    "    print(f\"The average air temperature on {user_info['name']}'s birthday ({user_info['birthday']}) at the location of ({user_info['lat']}, {user_info['lon']}) was {air_temp:.2f} degrees Fahrenheit.\")\n",
    "\n",
    "\n",
    "    total_time = end_time - start_time\n",
    "    print(f\" The total execution time is {total_time:.2f} seconds\")\n",
    "\n",
    "if __name__ == \"__main__\":\n",
    "    main()\n",
    "    "
   ]
  },
  {
   "cell_type": "code",
   "execution_count": null,
   "id": "70d5e449-a3ce-4919-84f9-004bab014b06",
   "metadata": {},
   "outputs": [],
   "source": []
  }
 ],
 "metadata": {
  "kernelspec": {
   "display_name": "NPL 2023a",
   "language": "python",
   "name": "npl-2023a"
  },
  "language_info": {
   "codemirror_mode": {
    "name": "ipython",
    "version": 3
   },
   "file_extension": ".py",
   "mimetype": "text/x-python",
   "name": "python",
   "nbconvert_exporter": "python",
   "pygments_lexer": "ipython3",
   "version": "3.9.16"
  }
 },
 "nbformat": 4,
 "nbformat_minor": 5
}
